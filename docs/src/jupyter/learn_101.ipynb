{
 "cells": [
  {
   "cell_type": "markdown",
   "id": "137310b3",
   "metadata": {},
   "source": [
    "# Learn 101\n",
    "\n",
    "\n",
    "This tutorial is supposed to help you to familiarize with paasify. The idea is to simply deploy 2 apps: paperless-ng and homepage. For this purpose, we will deploy a proxy, Traefik, in front of it in way to serve those 2 apps.\n",
    "\n",
    "Let's start!\n",
    "\n",
    "## Create new project"
   ]
  },
  {
   "cell_type": "code",
   "execution_count": 1,
   "id": "dcb03378",
   "metadata": {},
   "outputs": [],
   "source": [
    "# Please ignore this section\n",
    "ROOT_DIR=${ROOT_DIR:-$PWD}\n",
    "cd $ROOT_DIR\n",
    "rm -rf examples/ex1 || true\n",
    "export NOTTY=true\n",
    "export LANG=C"
   ]
  },
  {
   "cell_type": "markdown",
   "id": "d3164d7f",
   "metadata": {},
   "source": [
    "Let's create a fresh dir where we can create our project:"
   ]
  },
  {
   "cell_type": "code",
   "execution_count": 2,
   "id": "3980bede",
   "metadata": {},
   "outputs": [],
   "source": [
    "mkdir -p examples/ex1\n",
    "cd examples/ex1"
   ]
  },
  {
   "cell_type": "markdown",
   "id": "dd55e905",
   "metadata": {},
   "source": [
    "## Create project"
   ]
  },
  {
   "cell_type": "markdown",
   "id": "4a70028a",
   "metadata": {},
   "source": [
    "Then, we want to create a new paasify project, let's call it `devbox`"
   ]
  },
  {
   "cell_type": "code",
   "execution_count": 3,
   "id": "319e9d51",
   "metadata": {},
   "outputs": [
    {
     "name": "stdout",
     "output_type": "stream",
     "text": [
      "  NOTICE: Creating: 'devbox/paasify.yml' from '/home/jez/volumes/data/prj/mrjk/POC/paasify_transiant/paasify/assets/paasify.yml'\n",
      "  NOTICE: Creating: 'devbox/.gitignore' from '/home/jez/volumes/data/prj/mrjk/POC/paasify_transiant/paasify/assets/gitignore'\n",
      "  NOTICE: New project updated in: devbox\n"
     ]
    }
   ],
   "source": [
    "paasify new devbox"
   ]
  },
  {
   "cell_type": "markdown",
   "id": "6293aff5",
   "metadata": {},
   "source": [
    "Yipeeh, our first project has been created, and 2 files has been created: `paasify.yml` and `.gitignore`. Let's inspect them."
   ]
  },
  {
   "cell_type": "code",
   "execution_count": 4,
   "id": "f42f7606",
   "metadata": {},
   "outputs": [
    {
     "name": "stdout",
     "output_type": "stream",
     "text": [
      "==> paasify.yml <==\n",
      "config:\n",
      "\n",
      "  # Load extra vars\n",
      "  # -----------------\n",
      "  # extra_vars:\n",
      "  #   - ../vars.extra.yml\n",
      "\n",
      "  vars:\n",
      "\n",
      "    # Determine your application domain\n",
      "    # app_domain: devbox.home\n",
      "\n",
      "    # Default network name for all stacks\n",
      "    # app_network_name: $net_proxy_public\n",
      "\n",
      "sources:\n",
      "\n",
      "  # Add you sources below\n",
      "  # - name: default\n",
      "  #   remote: git@github.com:user/repo.git\n",
      "  #   #remote: ../../my_local_collection\n",
      "\n",
      "stacks:\n",
      "\n",
      "  # Add you stacks below\n",
      "  # - app: httpd\n",
      "  #   vars:\n",
      "  #     app_name: web\n",
      "\n",
      "==> .gitignore <==\n",
      ".paasify/collections/*\n",
      "*/data/*\n",
      "*/share/*\n",
      "*/tmp/*\n",
      "*/db_data/*\n"
     ]
    }
   ],
   "source": [
    "cd devbox\n",
    "tail -n 999 paasify.yml .gitignore\n"
   ]
  },
  {
   "cell_type": "markdown",
   "id": "ddd7e7e0",
   "metadata": {},
   "source": [
    "Ok, it seems the `paasify.yml` file want to be edited, but for this time, we will just replace it by another one:"
   ]
  },
  {
   "cell_type": "code",
   "execution_count": 5,
   "id": "d822f911",
   "metadata": {},
   "outputs": [],
   "source": [
    "cat << 'EOF' > paasify.yml\n",
    "# My new project\n",
    "\n",
    "sources:\n",
    "  - name: community\n",
    "    remote: https://github.com/barbu-it/paasify-collection-community\n",
    "\n",
    "config:\n",
    "  vars:\n",
    "    app_expose_ip: 127.0.0.1\n",
    "    app_domain: ${app_expose_ip}.nip.io\n",
    "    traefik_net_name: devbox_proxy\n",
    "\n",
    "  tags_prefix:\n",
    "    - homepage\n",
    "    - traefik-svc\n",
    "\n",
    "stacks:\n",
    "  - app: proxy\n",
    "    vars:\n",
    "      app_network_name: $traefik_net_name\n",
    "    tags:\n",
    "      - expose_http\n",
    "  - app: home\n",
    "  - app: community:paperless-ng\n",
    "\n",
    "EOF\n",
    "\n",
    "# cat paasify.yml\n"
   ]
  },
  {
   "cell_type": "markdown",
   "id": "5bf29f59",
   "metadata": {},
   "source": [
    "## Install project sources"
   ]
  },
  {
   "cell_type": "markdown",
   "id": "e887555d",
   "metadata": {},
   "source": [
    "Ok, our project is ready, let's fetch its source, as you seen in the config, we refers to a git URL. We need to download/install this source locally before being enable to use it. There is one command for this purpose:"
   ]
  },
  {
   "cell_type": "code",
   "execution_count": 6,
   "id": "9a9096e6",
   "metadata": {},
   "outputs": [
    {
     "name": "stdout",
     "output_type": "stream",
     "text": [
      "  NOTICE: Source 'paasify' is a path, no need to install\n",
      "  NOTICE: Installing 'community' git: https://github.com/barbu-it/paasify-collection-community in .paasify/collections/barbu-it-paasify-collection-community\n",
      "Cloning into '.paasify/collections/barbu-it-paasify-collection-community'...\n",
      "remote: Enumerating objects: 42, done.\u001b[K\n",
      "remote: Counting objects: 100% (42/42), done.\u001b[K\n",
      "remote: Compressing objects: 100% (36/36), done.\u001b[K\n",
      "remote: Total 42 (delta 0), reused 42 (delta 0), pack-reused 0\u001b[K\n",
      "Receiving objects: 100% (42/42), 66.68 KiB | 1.39 MiB/s, done.\n"
     ]
    }
   ],
   "source": [
    "paasify src install"
   ]
  },
  {
   "cell_type": "markdown",
   "id": "88cabc4f",
   "metadata": {},
   "source": [
    "Now our source has been installed, let's check it:"
   ]
  },
  {
   "cell_type": "code",
   "execution_count": 7,
   "id": "c70e6b36",
   "metadata": {},
   "outputs": [
    {
     "name": "stdout",
     "output_type": "stream",
     "text": [
      "  NAME                 INSTALLED  GIT      REMOTE                                             PATH\n",
      "  paasify              True       False                                                       /home/jez/volumes/data/prj/mrjk/POC/paasify_transiant/paasify/assets/collections/paasify\n",
      "  community            True       True     https://github.com/barbu-it/paasify-collection-community .paasify/collections/barbu-it-paasify-collection-community\n"
     ]
    }
   ],
   "source": [
    "paasify src ls"
   ]
  },
  {
   "cell_type": "markdown",
   "id": "deb1739e",
   "metadata": {},
   "source": [
    "## Start stacks\n",
    "\n",
    "Well, we have our config, our source installed, let's deploy, for this, one command:"
   ]
  },
  {
   "cell_type": "code",
   "execution_count": 8,
   "id": "3853b2c7",
   "metadata": {},
   "outputs": [
    {
     "name": "stdout",
     "output_type": "stream",
     "text": [
      "  NOTICE: Apply stacks\n",
      "  NOTICE: Assemble stack: proxy\n",
      "  NOTICE: Assemble stack: home\n",
      "  NOTICE: Assemble stack: paperless-ng\n",
      "  NOTICE:   Start stack: proxy\n",
      "  NOTICE:   Start stack: home\n",
      "  NOTICE:   Start stack: paperless-ng\n",
      "  NOTICE: Stack has been applied\n"
     ]
    }
   ],
   "source": [
    "paasify apply"
   ]
  },
  {
   "cell_type": "markdown",
   "id": "a0eaceb9",
   "metadata": {},
   "source": [
    "Then wait a bit that docker download the apps image and then you can check your applications:\n",
    "* http://home.127.0.0.1.nip.io/\n",
    "* http://proxy.127.0.0.1.nip.io/dashboard/\n",
    "* http://paperless.127.0.0.1.nip.io/ (password aplication is admin/admin)\n",
    "\n",
    "Yeah! You can toy a bit with those apps, and let's continue our walkthrough. Actually, what is running ? You have the `ps` command for that:"
   ]
  },
  {
   "cell_type": "code",
   "execution_count": 9,
   "id": "a524c219",
   "metadata": {},
   "outputs": [
    {
     "name": "stdout",
     "output_type": "stream",
     "text": [
      "  devbox_proxy                     0b6239eaa413 devbox_proxy-traefik-1                   traefik          running    127.0.0.1:80->80/tcp\n",
      "  devbox_home                      30c398d74a43 devbox_home-homepage-1                   homepage         running    \n",
      "  devbox_paperless-ng              cd32a7782180 devbox_paperless-ng-paperless-1          paperless        running    \n"
     ]
    }
   ],
   "source": [
    "paasify ps"
   ]
  },
  {
   "cell_type": "markdown",
   "id": "1afb7cf1",
   "metadata": {},
   "source": [
    "So basically, we see that we have 3 containers running, and the proxy is listening on 127.0.0.1 on port 80, and it is here to reroute all traffic trough paperless and homepage instances. This is exactly what we want, all our web services behind a proxy. Later, it will be possible to use your own domain, set login/password proection, add let's encrypt HTTPS ...\n",
    "\n",
    "But for now, let's remove everything like you never did anything:"
   ]
  },
  {
   "cell_type": "code",
   "execution_count": 10,
   "id": "111cd940",
   "metadata": {},
   "outputs": [
    {
     "name": "stdout",
     "output_type": "stream",
     "text": [
      "  NOTICE:   Stop stack: paperless-ng\n",
      "  NOTICE:   Stop stack: home\n",
      "  NOTICE:   Stop stack: proxy\n"
     ]
    }
   ],
   "source": [
    "paasify down"
   ]
  },
  {
   "cell_type": "markdown",
   "id": "68443662",
   "metadata": {},
   "source": [
    "As you can see, there is no more output"
   ]
  },
  {
   "cell_type": "code",
   "execution_count": 11,
   "id": "b38bd842",
   "metadata": {},
   "outputs": [],
   "source": [
    "paasify ps"
   ]
  },
  {
   "cell_type": "markdown",
   "id": "6ecdd011",
   "metadata": {},
   "source": [
    "So, even the containers has been destroyed, there are no tracks of them anymore. However, you still have your data:"
   ]
  },
  {
   "cell_type": "code",
   "execution_count": 12,
   "id": "26727a78",
   "metadata": {},
   "outputs": [
    {
     "name": "stdout",
     "output_type": "stream",
     "text": [
      "\u001b[01;34m.\u001b[0m\n",
      "|-- \u001b[01;34mhome\u001b[0m\n",
      "|   |-- \u001b[01;34mconf\u001b[0m\n",
      "|   `-- docker-compose.run.yml\n",
      "|-- paasify.yml\n",
      "|-- \u001b[01;34mpaperless-ng\u001b[0m\n",
      "|   |-- \u001b[01;34mconf\u001b[0m\n",
      "|   |   |-- \u001b[01;34mcustom-cont-init.d\u001b[0m\n",
      "|   |   |-- \u001b[01;34mcustom-services.d\u001b[0m\n",
      "|   |   |-- db.sqlite3\n",
      "|   |   `-- \u001b[01;34mlog\u001b[0m\n",
      "|   |-- \u001b[01;34mdata\u001b[0m\n",
      "|   |   |-- \u001b[01;34mconsume\u001b[0m\n",
      "|   |   `-- \u001b[01;34mmedia\u001b[0m\n",
      "|   |       `-- \u001b[01;34mdocuments\u001b[0m\n",
      "|   |           |-- \u001b[01;34moriginals\u001b[0m\n",
      "|   |           `-- \u001b[01;34mthumbnails\u001b[0m\n",
      "|   `-- docker-compose.run.yml\n",
      "`-- \u001b[01;34mproxy\u001b[0m\n",
      "    |-- \u001b[01;34mconf\u001b[0m\n",
      "    |-- \u001b[01;34mdata\u001b[0m\n",
      "    |-- docker-compose.run.yml\n",
      "    `-- \u001b[01;34mlogs\u001b[0m\n",
      "\n",
      "17 directories, 5 files\n"
     ]
    }
   ],
   "source": [
    "tree"
   ]
  },
  {
   "cell_type": "markdown",
   "id": "dbb24b05",
   "metadata": {},
   "source": [
    "To put back online the apps, just run again `paasify up`. If you want to modify your `paasify.yml`, then don't forget to `apply` on your stacks (Note: due to a docker \"bug\", labels changes may need an actual `recreate` instead of `apply`).\n",
    "\n",
    "Before leaving, we will remove the project. If you made some modifications into the app, they will be lost after this command."
   ]
  },
  {
   "cell_type": "code",
   "execution_count": 13,
   "id": "ce535da5",
   "metadata": {},
   "outputs": [],
   "source": [
    "cd $ROOT_DIR\n",
    "rm -rf examples/ex1"
   ]
  },
  {
   "cell_type": "markdown",
   "id": "77525707",
   "metadata": {},
   "source": [
    "And this all for this first tutorial :)"
   ]
  }
 ],
 "metadata": {
  "kernelspec": {
   "display_name": "Bash",
   "language": "bash",
   "name": "bash"
  },
  "language_info": {
   "codemirror_mode": "shell",
   "file_extension": ".sh",
   "mimetype": "text/x-sh",
   "name": "bash"
  }
 },
 "nbformat": 4,
 "nbformat_minor": 5
}
